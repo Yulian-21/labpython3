{
  "nbformat": 4,
  "nbformat_minor": 0,
  "metadata": {
    "colab": {
      "name": "Untitled3.ipynb",
      "provenance": [],
      "authorship_tag": "ABX9TyMQ1uhbSUNs94LThMrgOEZB",
      "include_colab_link": true
    },
    "kernelspec": {
      "name": "python3",
      "display_name": "Python 3"
    },
    "language_info": {
      "name": "python"
    }
  },
  "cells": [
    {
      "cell_type": "markdown",
      "metadata": {
        "id": "view-in-github",
        "colab_type": "text"
      },
      "source": [
        "<a href=\"https://colab.research.google.com/github/Yulian-21/labpython3/blob/master/Untitled3.ipynb\" target=\"_parent\"><img src=\"https://colab.research.google.com/assets/colab-badge.svg\" alt=\"Open In Colab\"/></a>"
      ]
    },
    {
      "cell_type": "code",
      "metadata": {
        "id": "VOESUSngo2ut"
      },
      "source": [
        "import pandas\n",
        "import numpy as np\n",
        "import matplotlib.pyplot as plt\n",
        "\n",
        "empl = pandas.read_csv('employees.csv')\n",
        "nba = pandas.read_csv('nba.csv')\n",
        "\n",
        "print(empl.isnull())\n",
        "empl.replace('', np.nan)\n",
        "empl.dropna()\n",
        "print(empl.isnull())\n",
        "\n",
        "nba.replace('', np.nan)\n",
        "nba.dropna()\n",
        "print(nba['Height'].head())\n",
        "nba['Height'] = nba['Height'].str.replace('-', '.')\n",
        "\n",
        "print(nba['Weight'].head())\n",
        "nba['Weight'] *= 0.45359237\n",
        "print(nba['Weight'].head())\n",
        "\n",
        "nba['Height'] = pandas.to_numeric(nba['Height'], downcast='float')\n",
        "nba['Height'] /= 3.28084\n",
        "print(nba['Height'].head())\n",
        "\n",
        "print(empl['First Name'].count())\n",
        "print(nba['Name'].count())\n",
        "\n",
        "print(empl['Salary'].max())\n",
        "print(nba['Weight'].max())\n",
        "\n",
        "print(empl['Salary'].mean())\n",
        "print(nba['Weight'].mean())\n",
        "\n",
        "columns = ['Age', 'Weight']\n",
        "values = [nba['Age'].mean(), nba['Weight'].mean()]\n",
        "plt.bar(columns, values)\n",
        "plt.title('Nba-dataset')\n",
        "plt.xlabel('Column')\n",
        "plt.ylabel('Mean value')\n",
        "plt.show()"
      ],
      "execution_count": null,
      "outputs": []
    }
  ]
}